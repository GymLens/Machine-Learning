{
  "cells": [
    {
      "cell_type": "markdown",
      "metadata": {
        "id": "view-in-github",
        "colab_type": "text"
      },
      "source": [
        "<a href=\"https://colab.research.google.com/github/GymLens/Machine-Learning/blob/main/CNN_TF_DenseNet121_9875_.ipynb\" target=\"_parent\"><img src=\"https://colab.research.google.com/assets/colab-badge.svg\" alt=\"Open In Colab\"/></a>"
      ]
    },
    {
      "cell_type": "code",
      "source": [
        "!unzip /content/datasetV3.zip -d /content/dataset/\n",
        "# !rm -r /content/dataset"
      ],
      "metadata": {
        "collapsed": true,
        "id": "hfpsG09pbUyE"
      },
      "id": "hfpsG09pbUyE",
      "execution_count": null,
      "outputs": []
    },
    {
      "cell_type": "code",
      "execution_count": null,
      "id": "afraid-reception",
      "metadata": {
        "papermill": {
          "duration": 5.695448,
          "end_time": "2021-05-18T03:49:39.220397",
          "exception": false,
          "start_time": "2021-05-18T03:49:33.524949",
          "status": "completed"
        },
        "tags": [],
        "id": "afraid-reception"
      },
      "outputs": [],
      "source": [
        "import tensorflow as tf\n",
        "from tensorflow import keras\n",
        "from tensorflow.keras import backend as K\n",
        "from tensorflow.keras import regularizers\n",
        "from tensorflow.keras.applications import ResNet50\n",
        "from tensorflow.keras.optimizers import Adam, Adamax\n",
        "from tensorflow.keras.callbacks import ModelCheckpoint\n",
        "from tensorflow.keras.metrics import categorical_crossentropy\n",
        "from tensorflow.keras.callbacks import EarlyStopping, Callback\n",
        "from tensorflow.keras.models import Model, load_model, Sequential\n",
        "from tensorflow.keras.preprocessing.image import ImageDataGenerator\n",
        "print(\"Num GPUs Available: \", len(tf.config.experimental.list_physical_devices('GPU')))\n",
        "from tensorflow.keras.layers import Dense, Activation,Dropout,Conv2D, MaxPooling2D,BatchNormalization, Flatten,Input\n",
        "import numpy as np\n",
        "import pandas as pd\n",
        "from sklearn.model_selection import train_test_split\n",
        "from sklearn.utils.class_weight import compute_class_weight\n",
        "import matplotlib.pyplot as plt\n",
        "from matplotlib.pyplot import imshow\n",
        "import os\n",
        "import seaborn as sns\n",
        "sns.set_style('darkgrid')\n",
        "from sklearn.metrics import confusion_matrix, classification_report\n",
        "from IPython.display import display, HTML"
      ]
    },
    {
      "cell_type": "markdown",
      "id": "adaptive-serve",
      "metadata": {
        "papermill": {
          "duration": 0.015623,
          "end_time": "2021-05-18T03:49:39.253552",
          "exception": false,
          "start_time": "2021-05-18T03:49:39.237929",
          "status": "completed"
        },
        "tags": [],
        "id": "adaptive-serve"
      },
      "source": [
        "### iterate through the folders to create a dataframe of the form filepaths labels"
      ]
    },
    {
      "cell_type": "code",
      "execution_count": null,
      "id": "patent-debate",
      "metadata": {
        "papermill": {
          "duration": 0.411876,
          "end_time": "2021-05-18T03:49:39.681304",
          "exception": false,
          "start_time": "2021-05-18T03:49:39.269428",
          "status": "completed"
        },
        "tags": [],
        "id": "patent-debate"
      },
      "outputs": [],
      "source": [
        "sdir=r'./dataset/Gym Dataset Cropped'\n",
        "\n",
        "\n",
        "filepaths=[]\n",
        "labels=[]\n",
        "classlist=os.listdir(sdir)\n",
        "for klass in classlist:\n",
        "    classpath=os.path.join(sdir,klass)\n",
        "    if os.path.isdir(classpath):\n",
        "        flist=os.listdir(classpath)\n",
        "        for f in flist:\n",
        "            fpath=os.path.join(classpath,f)\n",
        "            filepaths.append(fpath)\n",
        "            labels.append(klass)\n",
        "Fseries= pd.Series(filepaths, name='filepaths')\n",
        "Lseries=pd.Series(labels, name='labels')\n",
        "df=pd.concat([Fseries, Lseries], axis=1)\n",
        "print (df.head())\n",
        "print (df['labels'].value_counts())"
      ]
    },
    {
      "cell_type": "markdown",
      "id": "western-television",
      "metadata": {
        "papermill": {
          "duration": 0.016063,
          "end_time": "2021-05-18T03:49:39.713849",
          "exception": false,
          "start_time": "2021-05-18T03:49:39.697786",
          "status": "completed"
        },
        "tags": [],
        "id": "western-television"
      },
      "source": [
        "### split df into train_df, test_df and valid_df"
      ]
    },
    {
      "cell_type": "code",
      "execution_count": null,
      "id": "endangered-radio",
      "metadata": {
        "papermill": {
          "duration": 0.029986,
          "end_time": "2021-05-18T03:49:39.759808",
          "exception": false,
          "start_time": "2021-05-18T03:49:39.729822",
          "status": "completed"
        },
        "tags": [],
        "id": "endangered-radio"
      },
      "outputs": [],
      "source": [
        "train_split = 0.8\n",
        "test_split = 0.1\n",
        "dummy_split = test_split / (1 - train_split)\n",
        "\n",
        "train_df, dummy_df = train_test_split(df, train_size=train_split, stratify=df['labels'], random_state=123)\n",
        "test_df, valid_df = train_test_split(dummy_df, train_size=dummy_split, stratify=dummy_df['labels'], random_state=123)\n",
        "\n",
        "print('train_df length:', len(train_df), '  test_df length:', len(test_df), '  valid_df length:', len(valid_df))"
      ]
    },
    {
      "cell_type": "code",
      "execution_count": null,
      "id": "3d86b8fb",
      "metadata": {
        "id": "3d86b8fb"
      },
      "outputs": [],
      "source": [
        "print(test_df['labels'].unique())"
      ]
    },
    {
      "cell_type": "markdown",
      "id": "signed-madonna",
      "metadata": {
        "papermill": {
          "duration": 0.01636,
          "end_time": "2021-05-18T03:49:39.792578",
          "exception": false,
          "start_time": "2021-05-18T03:49:39.776218",
          "status": "completed"
        },
        "tags": [],
        "id": "signed-madonna"
      },
      "source": [
        "### create train, test, valid  generators"
      ]
    },
    {
      "cell_type": "code",
      "execution_count": null,
      "id": "robust-quarterly",
      "metadata": {
        "papermill": {
          "duration": 2.694365,
          "end_time": "2021-05-18T03:49:42.503459",
          "exception": false,
          "start_time": "2021-05-18T03:49:39.809094",
          "status": "completed"
        },
        "scrolled": true,
        "tags": [],
        "id": "robust-quarterly"
      },
      "outputs": [],
      "source": [
        "height=224\n",
        "width=224\n",
        "channels=3\n",
        "batch_size=256\n",
        "\n",
        "img_shape=(height, width, channels)\n",
        "img_size=(height, width)\n",
        "length=len(test_df)\n",
        "test_batch_size=sorted([int(length/n) for n in range(1,length+1) if length % n ==0 and length/n<=80],reverse=True)[0]\n",
        "test_steps=int(length/test_batch_size)\n",
        "print ( 'test batch size: ' ,test_batch_size, '  test steps: ', test_steps)\n",
        "\n",
        "gen=ImageDataGenerator(\n",
        "    rescale=1./255,\n",
        "    rotation_range=30,\n",
        "    width_shift_range=0.2,\n",
        "    height_shift_range=0.2,\n",
        "    shear_range=0.2,\n",
        "    zoom_range=0.2,\n",
        "    horizontal_flip=True\n",
        "    )\n",
        "train_gen=gen.flow_from_dataframe( train_df, x_col='filepaths', y_col='labels', target_size=img_size, class_mode='categorical',\n",
        "                                    color_mode='rgb', shuffle=True, batch_size=batch_size)\n",
        "\n",
        "validgen=ImageDataGenerator(rescale=1./255)\n",
        "valid_gen=validgen.flow_from_dataframe( valid_df, x_col='filepaths', y_col='labels', target_size=img_size, class_mode='categorical',\n",
        "                                    color_mode='rgb', shuffle=True, batch_size=batch_size)\n",
        "\n",
        "testgen=ImageDataGenerator(rescale=1./255)\n",
        "test_gen=testgen.flow_from_dataframe( test_df, x_col='filepaths', y_col='labels', target_size=img_size, class_mode='categorical',\n",
        "                                    color_mode='rgb', shuffle=False, batch_size=test_batch_size)\n",
        "\n",
        "classes=list(train_gen.class_indices.keys())\n",
        "print (classes)\n",
        "class_count=len(classes)\n",
        "\n"
      ]
    },
    {
      "cell_type": "markdown",
      "id": "funny-tobago",
      "metadata": {
        "papermill": {
          "duration": 0.017787,
          "end_time": "2021-05-18T03:49:42.656153",
          "exception": false,
          "start_time": "2021-05-18T03:49:42.638366",
          "status": "completed"
        },
        "tags": [],
        "id": "funny-tobago"
      },
      "source": [
        "### create function to show some image examples"
      ]
    },
    {
      "cell_type": "code",
      "execution_count": null,
      "id": "coated-bosnia",
      "metadata": {
        "papermill": {
          "duration": 0.02745,
          "end_time": "2021-05-18T03:49:42.701601",
          "exception": false,
          "start_time": "2021-05-18T03:49:42.674151",
          "status": "completed"
        },
        "tags": [],
        "id": "coated-bosnia"
      },
      "outputs": [],
      "source": [
        "def show_image_samples(gen):\n",
        "    test_dict=test_gen.class_indices\n",
        "    classes=list(test_dict.keys())\n",
        "    images,labels=next(gen)\n",
        "    plt.figure(figsize=(15, 15))\n",
        "    length=len(labels)\n",
        "    if length<9:\n",
        "        r=length\n",
        "    else:\n",
        "        r=9\n",
        "    for i in range(r):\n",
        "        plt.subplot(3, 3, i + 1)\n",
        "        image=images[i]\n",
        "        plt.imshow(image)\n",
        "        index=np.argmax(labels[i])\n",
        "        class_name=classes[index]\n",
        "        plt.title(class_name, color='blue', fontsize=16)\n",
        "        plt.axis('off')\n",
        "    plt.show()"
      ]
    },
    {
      "cell_type": "code",
      "execution_count": null,
      "id": "e3282d2d",
      "metadata": {
        "id": "e3282d2d"
      },
      "outputs": [],
      "source": [
        "labels = train_gen.classes\n",
        "class_weights = compute_class_weight(\n",
        "    class_weight='balanced',\n",
        "    classes=np.unique(labels),\n",
        "    y=labels\n",
        ")"
      ]
    },
    {
      "cell_type": "code",
      "execution_count": null,
      "id": "7af14142",
      "metadata": {
        "id": "7af14142"
      },
      "outputs": [],
      "source": [
        "class_weights = dict(enumerate(class_weights))\n",
        "print(\"Class Weights:\", class_weights)"
      ]
    },
    {
      "cell_type": "code",
      "execution_count": null,
      "id": "concerned-viewer",
      "metadata": {
        "papermill": {
          "duration": 2.911847,
          "end_time": "2021-05-18T03:49:45.631353",
          "exception": false,
          "start_time": "2021-05-18T03:49:42.719506",
          "status": "completed"
        },
        "tags": [],
        "id": "concerned-viewer"
      },
      "outputs": [],
      "source": [
        "show_image_samples(train_gen)"
      ]
    },
    {
      "cell_type": "markdown",
      "id": "damaged-flight",
      "metadata": {
        "papermill": {
          "duration": 0.04921,
          "end_time": "2021-05-18T03:49:45.935993",
          "exception": false,
          "start_time": "2021-05-18T03:49:45.886783",
          "status": "completed"
        },
        "tags": [],
        "id": "damaged-flight"
      },
      "source": [
        "### create the model"
      ]
    },
    {
      "cell_type": "code",
      "execution_count": null,
      "id": "7ec60a5d",
      "metadata": {
        "id": "7ec60a5d"
      },
      "outputs": [],
      "source": [
        "base_model=tf.keras.applications.DenseNet121(include_top=False, weights=\"imagenet\",input_tensor=Input(shape=(224,224,3)))"
      ]
    },
    {
      "cell_type": "code",
      "execution_count": null,
      "id": "afb622b0",
      "metadata": {
        "scrolled": true,
        "id": "afb622b0"
      },
      "outputs": [],
      "source": [
        "base_model.summary()"
      ]
    },
    {
      "cell_type": "code",
      "execution_count": null,
      "id": "c945d250",
      "metadata": {
        "id": "c945d250"
      },
      "outputs": [],
      "source": [
        "base_model.trainable = False\n",
        "# for layer in base_model.layers[:100]:  # Freeze lapisan awal\n",
        "#     layer.trainable = False\n",
        "# for layer in base_model.layers[-20:]:  # Unfreeze lapisan terakhir\n",
        "#     layer.trainable = True"
      ]
    },
    {
      "cell_type": "code",
      "source": [
        "# new_base = ResNet50(include_top=False, weights='imagenet', input_shape=(224, 224, 3))"
      ],
      "metadata": {
        "id": "uJjjEsqryFaS"
      },
      "id": "uJjjEsqryFaS",
      "execution_count": null,
      "outputs": []
    },
    {
      "cell_type": "code",
      "source": [
        "# new_base.summary()"
      ],
      "metadata": {
        "id": "rQJ7p1-ayj2q"
      },
      "id": "rQJ7p1-ayj2q",
      "execution_count": null,
      "outputs": []
    },
    {
      "cell_type": "code",
      "execution_count": null,
      "id": "pleasant-growth",
      "metadata": {
        "papermill": {
          "duration": 8.777086,
          "end_time": "2021-05-18T03:49:54.764673",
          "exception": false,
          "start_time": "2021-05-18T03:49:45.987587",
          "status": "completed"
        },
        "tags": [],
        "id": "pleasant-growth"
      },
      "outputs": [],
      "source": [
        "model_name='GymLens'\n",
        "print(\"Building model with\", base_model)\n",
        "model = tf.keras.Sequential([\n",
        "    base_model,\n",
        "    tf.keras.layers.Conv2D(filters=64, padding='same', kernel_size=3, activation='relu', strides=1),\n",
        "    tf.keras.layers.MaxPool2D(pool_size=2),\n",
        "    tf.keras.layers.Conv2D(filters=64, padding='same', kernel_size=3, activation='relu', strides=1),\n",
        "    tf.keras.layers.MaxPool2D(pool_size=2),\n",
        "    tf.keras.layers.Conv2D(filters=128, padding='same', kernel_size=3, activation='relu', strides=1),\n",
        "    tf.keras.layers.MaxPool2D(pool_size=(1, 1)),\n",
        "    tf.keras.layers.Dropout(rate=0.5),\n",
        "    tf.keras.layers.BatchNormalization(),\n",
        "    tf.keras.layers.GlobalAveragePooling2D(),\n",
        "    tf.keras.layers.Dense(512, activation='relu', kernel_regularizer=tf.keras.regularizers.l2(1e-4)),\n",
        "    tf.keras.layers.Dense(class_count, activation='softmax')\n",
        "])\n",
        "\n",
        "\n",
        "model.compile(optimizer=tf.keras.optimizers.Adam(learning_rate=.0001), loss='categorical_crossentropy', metrics=['accuracy', tf.keras.metrics.Precision(), tf.keras.metrics.Recall()])"
      ]
    },
    {
      "cell_type": "code",
      "execution_count": null,
      "id": "279b827c",
      "metadata": {
        "id": "279b827c"
      },
      "outputs": [],
      "source": [
        "model.summary()"
      ]
    },
    {
      "cell_type": "code",
      "execution_count": null,
      "id": "692a856d-30f4-44fe-8caa-e774b39ee656",
      "metadata": {
        "id": "692a856d-30f4-44fe-8caa-e774b39ee656"
      },
      "outputs": [],
      "source": [
        "class EarlyStoppingAtAccuracy(Callback):\n",
        "    def __init__(self, target_accuracy):\n",
        "        super().__init__()\n",
        "        self.target_accuracy = target_accuracy\n",
        "\n",
        "    def on_epoch_end(self, epoch, logs=None):\n",
        "        val_acc = logs.get('val_accuracy')\n",
        "        if val_acc and val_acc >= self.target_accuracy:\n",
        "            print(f\"\\nStopping training as validation accuracy reached {val_acc:.2f} (≥ {self.target_accuracy:.2f})\")\n",
        "            self.model.stop_training = True\n",
        "\n",
        "early_stopping = EarlyStoppingAtAccuracy(target_accuracy=0.98)"
      ]
    },
    {
      "cell_type": "code",
      "execution_count": null,
      "id": "9f457f23",
      "metadata": {
        "id": "9f457f23"
      },
      "outputs": [],
      "source": [
        "callbacks = [\n",
        "    tf.keras.callbacks.ReduceLROnPlateau(\n",
        "        monitor='val_loss',\n",
        "        factor=0.5,\n",
        "        patience=5,\n",
        "        verbose=1\n",
        "    ),\n",
        "    tf.keras.callbacks.EarlyStopping(\n",
        "        monitor='val_loss',\n",
        "        patience=7,\n",
        "        verbose=1,\n",
        "        restore_best_weights=True\n",
        "    )\n",
        "]"
      ]
    },
    {
      "cell_type": "code",
      "execution_count": null,
      "id": "f15c1ba6",
      "metadata": {
        "scrolled": true,
        "id": "f15c1ba6"
      },
      "outputs": [],
      "source": [
        "epochs = 100\n",
        "\n",
        "history=model.fit(\n",
        "    x=train_gen,\n",
        "    batch_size=32,\n",
        "    epochs=epochs,\n",
        "    validation_data=valid_gen,\n",
        "    # class_weight=class_weights,\n",
        "    callbacks=[callbacks]\n",
        ")"
      ]
    },
    {
      "cell_type": "markdown",
      "id": "downtown-anxiety",
      "metadata": {
        "papermill": {
          "duration": 0.048737,
          "end_time": "2021-05-18T03:49:45.729278",
          "exception": false,
          "start_time": "2021-05-18T03:49:45.680541",
          "status": "completed"
        },
        "tags": [],
        "id": "downtown-anxiety"
      },
      "source": [
        "### define function to print text in RGB foreground and background colors"
      ]
    },
    {
      "cell_type": "code",
      "execution_count": null,
      "id": "passing-cancellation",
      "metadata": {
        "papermill": {
          "duration": 0.059338,
          "end_time": "2021-05-18T03:49:45.837831",
          "exception": false,
          "start_time": "2021-05-18T03:49:45.778493",
          "status": "completed"
        },
        "tags": [],
        "id": "passing-cancellation"
      },
      "outputs": [],
      "source": [
        "def print_in_color(txt_msg,fore_tupple,back_tupple,):\n",
        "    rf,gf,bf=fore_tupple\n",
        "    rb,gb,bb=back_tupple\n",
        "    msg='{0}' + txt_msg\n",
        "    mat='\\33[38;2;' + str(rf) +';' + str(gf) + ';' + str(bf) + ';48;2;' + str(rb) + ';' +str(gb) + ';' + str(bb) +'m'\n",
        "    print(msg .format(mat), flush=True)\n",
        "    print('\\33[0m', flush=True)\n",
        "    return"
      ]
    },
    {
      "cell_type": "markdown",
      "id": "usual-lounge",
      "metadata": {
        "papermill": {
          "duration": 0.066176,
          "end_time": "2021-05-18T04:03:53.391639",
          "exception": false,
          "start_time": "2021-05-18T04:03:53.325463",
          "status": "completed"
        },
        "tags": [],
        "id": "usual-lounge"
      },
      "source": [
        "### define function to plot the training data"
      ]
    },
    {
      "cell_type": "code",
      "execution_count": null,
      "id": "going-efficiency",
      "metadata": {
        "papermill": {
          "duration": 0.08383,
          "end_time": "2021-05-18T04:03:53.540249",
          "exception": false,
          "start_time": "2021-05-18T04:03:53.456419",
          "status": "completed"
        },
        "tags": [],
        "id": "going-efficiency"
      },
      "outputs": [],
      "source": [
        "def tr_plot(tr_data, start_epoch):\n",
        "    tacc=tr_data.history['accuracy']\n",
        "    tloss=tr_data.history['loss']\n",
        "    vacc=tr_data.history['val_accuracy']\n",
        "    vloss=tr_data.history['val_loss']\n",
        "    Epoch_count=len(tacc)+ start_epoch\n",
        "    Epochs=[]\n",
        "    for i in range (start_epoch ,Epoch_count):\n",
        "        Epochs.append(i+1)\n",
        "    index_loss=np.argmin(vloss)\n",
        "    val_lowest=vloss[index_loss]\n",
        "    index_acc=np.argmax(vacc)\n",
        "    acc_highest=vacc[index_acc]\n",
        "    plt.style.use('fivethirtyeight')\n",
        "    sc_label='best epoch= '+ str(index_loss+1 +start_epoch)\n",
        "    vc_label='best epoch= '+ str(index_acc + 1+ start_epoch)\n",
        "    fig,axes=plt.subplots(nrows=1, ncols=2, figsize=(20,8))\n",
        "    axes[0].plot(Epochs,tloss, 'r', label='Training loss')\n",
        "    axes[0].plot(Epochs,vloss,'g',label='Validation loss' )\n",
        "    axes[0].scatter(index_loss+1 +start_epoch,val_lowest, s=150, c= 'blue', label=sc_label)\n",
        "    axes[0].set_title('Training and Validation Loss')\n",
        "    axes[0].set_xlabel('Epochs')\n",
        "    axes[0].set_ylabel('Loss')\n",
        "    axes[0].legend()\n",
        "    axes[1].plot (Epochs,tacc,'r',label= 'Training Accuracy')\n",
        "    axes[1].plot (Epochs,vacc,'g',label= 'Validation Accuracy')\n",
        "    axes[1].scatter(index_acc+1 +start_epoch,acc_highest, s=150, c= 'blue', label=vc_label)\n",
        "    axes[1].set_title('Training and Validation Accuracy')\n",
        "    axes[1].set_xlabel('Epochs')\n",
        "    axes[1].set_ylabel('Accuracy')\n",
        "    axes[1].legend()\n",
        "    plt.tight_layout\n",
        "    plt.show()\n"
      ]
    },
    {
      "cell_type": "markdown",
      "id": "precise-veteran",
      "metadata": {
        "papermill": {
          "duration": 0.064531,
          "end_time": "2021-05-18T04:03:53.669838",
          "exception": false,
          "start_time": "2021-05-18T04:03:53.605307",
          "status": "completed"
        },
        "tags": [],
        "id": "precise-veteran"
      },
      "source": [
        "### define function to generate the confusion matrix and classification report"
      ]
    },
    {
      "cell_type": "code",
      "execution_count": null,
      "id": "cheap-latino",
      "metadata": {
        "papermill": {
          "duration": 0.09055,
          "end_time": "2021-05-18T04:03:53.825558",
          "exception": false,
          "start_time": "2021-05-18T04:03:53.735008",
          "status": "completed"
        },
        "tags": [],
        "id": "cheap-latino"
      },
      "outputs": [],
      "source": [
        "def print_info( test_gen, preds, print_code, save_dir, subject ):\n",
        "    class_dict=test_gen.class_indices\n",
        "    labels= test_gen.labels\n",
        "    file_names= test_gen.filenames\n",
        "    error_list=[]\n",
        "    true_class=[]\n",
        "    pred_class=[]\n",
        "    prob_list=[]\n",
        "    new_dict={}\n",
        "    error_indices=[]\n",
        "    y_pred=[]\n",
        "    for key,value in class_dict.items():\n",
        "        new_dict[value]=key\n",
        "\n",
        "    classes=list(new_dict.values())\n",
        "    dict_as_text=str(new_dict)\n",
        "    dict_name= subject + '-' +str(len(classes)) +'.txt'\n",
        "    dict_path=os.path.join(save_dir,dict_name)\n",
        "    with open(dict_path, 'w') as x_file:\n",
        "        x_file.write(dict_as_text)\n",
        "    errors=0\n",
        "    for i, p in enumerate(preds):\n",
        "        pred_index=np.argmax(p)\n",
        "        true_index=labels[i]\n",
        "        if pred_index != true_index:\n",
        "            error_list.append(file_names[i])\n",
        "            true_class.append(new_dict[true_index])\n",
        "            pred_class.append(new_dict[pred_index])\n",
        "            prob_list.append(p[pred_index])\n",
        "            error_indices.append(true_index)\n",
        "            errors=errors + 1\n",
        "        y_pred.append(pred_index)\n",
        "    if print_code !=0:\n",
        "        if errors>0:\n",
        "            if print_code>errors:\n",
        "                r=errors\n",
        "            else:\n",
        "                r=print_code\n",
        "            msg='{0:^28s}{1:^28s}{2:^28s}{3:^16s}'.format('Filename', 'Predicted Class' , 'True Class', 'Probability')\n",
        "            print_in_color(msg, (0,255,0),(55,65,80))\n",
        "            for i in range(r):\n",
        "                split1=os.path.split(error_list[i])\n",
        "                split2=os.path.split(split1[0])\n",
        "                fname=split2[1] + '/' + split1[1]\n",
        "                msg='{0:^28s}{1:^28s}{2:^28s}{3:4s}{4:^6.4f}'.format(fname, pred_class[i],true_class[i], ' ', prob_list[i])\n",
        "                print_in_color(msg, (255,255,255), (55,65,60))\n",
        "        else:\n",
        "            msg='With accuracy of 100 % there are no errors to print'\n",
        "            print_in_color(msg, (0,255,0),(55,65,80))\n",
        "    if errors>0:\n",
        "        plot_bar=[]\n",
        "        plot_class=[]\n",
        "        for  key, value in new_dict.items():\n",
        "            count=error_indices.count(key)\n",
        "            if count!=0:\n",
        "                plot_bar.append(count)\n",
        "                plot_class.append(value)\n",
        "        fig=plt.figure()\n",
        "        fig.set_figheight(len(plot_class)/3)\n",
        "        fig.set_figwidth(10)\n",
        "        plt.style.use('fivethirtyeight')\n",
        "        for i in range(0, len(plot_class)):\n",
        "            c=plot_class[i]\n",
        "            x=plot_bar[i]\n",
        "            plt.barh(c, x, )\n",
        "            plt.title( ' Errors by Class on Test Set')\n",
        "    y_true= np.array(labels)\n",
        "    y_pred=np.array(y_pred)\n",
        "    if len(classes)<= 30:\n",
        "\n",
        "        cm = confusion_matrix(y_true, y_pred )\n",
        "        length=len(classes)\n",
        "        if length<8:\n",
        "            fig_width=8\n",
        "            fig_height=8\n",
        "        else:\n",
        "            fig_width= int(length * .5)\n",
        "            fig_height= int(length * .5)\n",
        "        plt.figure(figsize=(fig_width, fig_height))\n",
        "        sns.heatmap(cm, annot=True, vmin=0, fmt='g', cmap='Blues', cbar=False)\n",
        "        plt.xticks(np.arange(length)+.5, classes, rotation= 90)\n",
        "        plt.yticks(np.arange(length)+.5, classes, rotation=0)\n",
        "        plt.xlabel(\"Predicted\")\n",
        "        plt.ylabel(\"Actual\")\n",
        "        plt.title(\"Confusion Matrix\")\n",
        "        plt.show()\n",
        "    clr = classification_report(y_true, y_pred, target_names=classes)\n",
        "    print(\"Classification Report:\\n----------------------\\n\", clr)"
      ]
    },
    {
      "cell_type": "markdown",
      "id": "separate-northern",
      "metadata": {
        "papermill": {
          "duration": 0.071455,
          "end_time": "2021-05-18T04:03:53.969331",
          "exception": false,
          "start_time": "2021-05-18T04:03:53.897876",
          "status": "completed"
        },
        "tags": [],
        "id": "separate-northern"
      },
      "source": [
        "### evaluate model on the test set then save the model"
      ]
    },
    {
      "cell_type": "code",
      "execution_count": null,
      "id": "english-bachelor",
      "metadata": {
        "papermill": {
          "duration": 15.329191,
          "end_time": "2021-05-18T04:04:09.403286",
          "exception": false,
          "start_time": "2021-05-18T04:03:54.074095",
          "status": "completed"
        },
        "tags": [],
        "id": "english-bachelor"
      },
      "outputs": [],
      "source": [
        "tr_plot(history,0)\n",
        "save_dir=r'./'\n",
        "subject='Gym Exception'\n",
        "acc=model.evaluate( test_gen, batch_size=test_batch_size, verbose=1, steps=test_steps, return_dict=False)[1]*100\n",
        "msg=f'accuracy on the test set is {acc:5.2f} %'\n",
        "print_in_color(msg, (0,255,0),(55,65,80))\n",
        "save_id=str (model_name +  '-' + subject +'-'+ str(acc)[:str(acc).rfind('.')+3] + '.h5')"
      ]
    },
    {
      "cell_type": "markdown",
      "id": "sensitive-coverage",
      "metadata": {
        "papermill": {
          "duration": 0.117951,
          "end_time": "2021-05-18T04:04:09.640782",
          "exception": false,
          "start_time": "2021-05-18T04:04:09.522831",
          "status": "completed"
        },
        "tags": [],
        "id": "sensitive-coverage"
      },
      "source": [
        "### make predictions on test set and generate confusion matrix and classification report"
      ]
    },
    {
      "cell_type": "code",
      "execution_count": null,
      "id": "3111521e-2e02-47a1-bc08-bf5896c61252",
      "metadata": {
        "id": "3111521e-2e02-47a1-bc08-bf5896c61252"
      },
      "outputs": [],
      "source": [
        "print_code=0\n",
        "save_dir=r'./'\n",
        "subject='Gym Exception'\n",
        "preds=model.predict(test_gen)\n",
        "print_info( test_gen, preds, print_code, save_dir, subject )"
      ]
    },
    {
      "cell_type": "code",
      "execution_count": null,
      "id": "434ff710-9663-4930-96cb-842f03783e12",
      "metadata": {
        "id": "434ff710-9663-4930-96cb-842f03783e12"
      },
      "outputs": [],
      "source": [
        "def prepare_image(image_path):\n",
        "    img = tf.keras.preprocessing.image.load_img(image_path, target_size=(224, 224))\n",
        "    img_array = tf.keras.preprocessing.image.img_to_array(img)\n",
        "    img_array = np.expand_dims(img_array, axis=0)\n",
        "    return img_array / 255.0\n",
        "\n",
        "image_path = './dataset/tes/pullBar_92.jpg'\n",
        "image_to_predict = prepare_image(image_path)\n",
        "\n",
        "class_names = ['Bench Press', 'Dip Bar', 'Dumbells', 'Elliptical Machine', 'KettleBell', 'Lat Pulldown', 'Leg Press Machine', 'PullBar', 'Recumbent Bike', 'Stair Climber', 'Swiss Ball', 'Treadmill']\n",
        "\n",
        "predictions = model.predict(image_to_predict)\n",
        "predicted_class_index = np.argmax(predictions, axis=1)\n",
        "\n",
        "if len(predicted_class_index) > 0:\n",
        "    predicted_class_name = class_names[predicted_class_index[0]]\n",
        "    print(f'Predicted class: {predicted_class_name}')\n",
        "else:\n",
        "    print(\"No predictions were made.\")"
      ]
    },
    {
      "cell_type": "code",
      "source": [
        "# !rm -r /content/tes/.ipynb_checkpoints"
      ],
      "metadata": {
        "id": "D-i2-HXInrRb"
      },
      "id": "D-i2-HXInrRb",
      "execution_count": null,
      "outputs": []
    },
    {
      "cell_type": "code",
      "execution_count": null,
      "id": "2c6d5077-285d-4ab0-bbf9-04fd8d67c17e",
      "metadata": {
        "id": "2c6d5077-285d-4ab0-bbf9-04fd8d67c17e"
      },
      "outputs": [],
      "source": [
        "directory_path = './dataset/tes'\n",
        "class_names = ['Bench Press', 'Dip Bar', 'Dumbells', 'Elliptical Machine', 'KettleBell', 'Lat Pulldown', 'Leg Press Machine', 'PullBar', 'Recumbent Bike', 'Stair Climber', 'Swiss Ball', 'Treadmill']\n",
        "fig, axes = plt.subplots(nrows=10, ncols=5, figsize=(10, 19))\n",
        "axes = axes.flatten()\n",
        "\n",
        "for i, filename in enumerate(os.listdir(directory_path)):\n",
        "    image_path = os.path.join(directory_path, filename)\n",
        "    image = prepare_image(image_path)\n",
        "\n",
        "    predictions = model.predict(image)\n",
        "    predicted_class_index = np.argsort(predictions[0])[-2:][::-1]\n",
        "    predicted_class_name = [class_names[idx] for idx in predicted_class_index]\n",
        "    confidence = predictions[0][predicted_class_index] * 100\n",
        "\n",
        "    img = tf.keras.preprocessing.image.load_img(image_path)\n",
        "    axes[i].imshow(img)\n",
        "    axes[i].axis('off')\n",
        "\n",
        "\n",
        "    confidence_text = \"\\n\".join([f\"{predicted_class_name[j]}: {confidence[j]:.2f}%\" for j in range(2)])\n",
        "    axes[i].set_title(f\"{predicted_class_name[0]}\\nConfidence: {confidence[0]:.2f}%\\n\\n{confidence_text}\", fontsize=8)\n",
        "\n",
        "    if i == 49:\n",
        "        break\n",
        "\n",
        "plt.tight_layout()\n",
        "plt.show()\n"
      ]
    },
    {
      "cell_type": "code",
      "execution_count": null,
      "id": "8e30b518-0b24-4fda-a6cd-9651864c0cc1",
      "metadata": {
        "id": "8e30b518-0b24-4fda-a6cd-9651864c0cc1"
      },
      "outputs": [],
      "source": [
        "model.save('./gym_model_densenet121_9958.h5')"
      ]
    },
    {
      "cell_type": "code",
      "execution_count": null,
      "id": "170071dd",
      "metadata": {
        "id": "170071dd"
      },
      "outputs": [],
      "source": [
        "imp_model = load_model('./gym_model_densenet121_9958.h5')\n",
        "\n",
        "# Evaluasi model\n",
        "results = imp_model.evaluate(valid_gen)\n",
        "print(\"Validation Results:\", results)\n",
        "\n",
        "# Prediksi\n",
        "predictions = imp_model.predict(test_gen)"
      ]
    },
    {
      "cell_type": "code",
      "source": [
        "class_names = ['Bench Press', 'Dip Bar', 'Dumbells', 'Elliptical Machine', 'KettleBell', 'Lat Pulldown', 'Leg Press Machine', 'PullBar', 'Recumbent Bike', 'Stair Climber', 'Swiss Ball', 'Treadmill']\n",
        "\n",
        "# Simpan ke file .pkl atau .json\n",
        "import pickle\n",
        "with open('/content/class_names.pkl', 'wb') as f:\n",
        "    pickle.dump(class_names, f)"
      ],
      "metadata": {
        "id": "TzdsYe7NgnSO"
      },
      "id": "TzdsYe7NgnSO",
      "execution_count": null,
      "outputs": []
    },
    {
      "cell_type": "code",
      "source": [
        "with open('/content/class_names.pkl', 'rb') as f:\n",
        "    class_names = pickle.load(f)\n",
        "print(\"Class Names:\", class_names)"
      ],
      "metadata": {
        "id": "DLRzr2Aa6PTN"
      },
      "id": "DLRzr2Aa6PTN",
      "execution_count": null,
      "outputs": []
    },
    {
      "cell_type": "code",
      "source": [
        "from google.colab import drive\n",
        "drive.mount('/content/drive')"
      ],
      "metadata": {
        "id": "D5jFTh0S3V7C"
      },
      "id": "D5jFTh0S3V7C",
      "execution_count": null,
      "outputs": []
    },
    {
      "cell_type": "code",
      "source": [
        "!cp \"/content/Gym Exception-12.txt\" \"/content/drive/MyDrive/Colab Notebooks\""
      ],
      "metadata": {
        "id": "TevqER123W71"
      },
      "id": "TevqER123W71",
      "execution_count": null,
      "outputs": []
    },
    {
      "cell_type": "code",
      "source": [],
      "metadata": {
        "id": "WxskqMox3mne"
      },
      "id": "WxskqMox3mne",
      "execution_count": null,
      "outputs": []
    }
  ],
  "metadata": {
    "kernelspec": {
      "display_name": "Python 3",
      "name": "python3"
    },
    "language_info": {
      "codemirror_mode": {
        "name": "ipython",
        "version": 3
      },
      "file_extension": ".py",
      "mimetype": "text/x-python",
      "name": "python",
      "nbconvert_exporter": "python",
      "pygments_lexer": "ipython3",
      "version": "3.9.20"
    },
    "papermill": {
      "default_parameters": {},
      "duration": 902.986742,
      "end_time": "2021-05-18T04:04:29.804901",
      "environment_variables": {},
      "exception": null,
      "input_path": "__notebook__.ipynb",
      "output_path": "__notebook__.ipynb",
      "parameters": {},
      "start_time": "2021-05-18T03:49:26.818159",
      "version": "2.3.3"
    },
    "colab": {
      "provenance": [],
      "gpuType": "T4",
      "private_outputs": true,
      "include_colab_link": true
    },
    "accelerator": "GPU"
  },
  "nbformat": 4,
  "nbformat_minor": 5
}