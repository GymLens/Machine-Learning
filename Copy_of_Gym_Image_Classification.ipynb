{
  "nbformat": 4,
  "nbformat_minor": 0,
  "metadata": {
    "colab": {
      "provenance": [],
      "gpuType": "T4",
      "include_colab_link": true
    },
    "kernelspec": {
      "name": "python3",
      "display_name": "Python 3"
    },
    "language_info": {
      "name": "python"
    },
    "accelerator": "GPU"
  },
  "cells": [
    {
      "cell_type": "markdown",
      "metadata": {
        "id": "view-in-github",
        "colab_type": "text"
      },
      "source": [
        "<a href=\"https://colab.research.google.com/github/rizalpangestu1/Machine-Learning/blob/main/Copy_of_Gym_Image_Classification.ipynb\" target=\"_parent\"><img src=\"https://colab.research.google.com/assets/colab-badge.svg\" alt=\"Open In Colab\"/></a>"
      ]
    },
    {
      "cell_type": "code",
      "source": [
        "import pandas as pd\n",
        "import tensorflow as tf\n",
        "import os\n",
        "\n",
        "from PIL import Image\n",
        "\n",
        "from tensorflow.keras import layers, models\n",
        "from tensorflow import feature_column\n",
        "\n",
        "from sklearn.model_selection import train_test_split"
      ],
      "metadata": {
        "id": "FKwwTWlhqWeP"
      },
      "execution_count": 1,
      "outputs": []
    },
    {
      "cell_type": "code",
      "source": [
        "!kaggle datasets download -d \"aadarshvelu/gym-equipements-classification\"\n",
        "!mkdir dataset\n",
        "!unzip gym-equipements-classification.zip -d dataset\n",
        "!rm gym-equipements-classification.zip"
      ],
      "metadata": {
        "colab": {
          "base_uri": "https://localhost:8080/"
        },
        "id": "EGDohFcj9Pl8",
        "outputId": "595fa82a-b7b8-4290-9bfa-4ee6ef62ebf4"
      },
      "execution_count": 2,
      "outputs": [
        {
          "output_type": "stream",
          "name": "stdout",
          "text": [
            "Dataset URL: https://www.kaggle.com/datasets/aadarshvelu/gym-equipements-classification\n",
            "License(s): other\n",
            "404 - Not Found - No gcs url found\n",
            "unzip:  cannot find or open gym-equipements-classification.zip, gym-equipements-classification.zip.zip or gym-equipements-classification.zip.ZIP.\n",
            "rm: cannot remove 'gym-equipements-classification.zip': No such file or directory\n"
          ]
        }
      ]
    },
    {
      "cell_type": "code",
      "source": [
        "from sklearn.model_selection import train_test_split"
      ],
      "metadata": {
        "id": "OM019qLfgSs2"
      },
      "execution_count": 3,
      "outputs": []
    },
    {
      "cell_type": "code",
      "source": [
        "# Path to the zip file and the directory to extract to\n",
        "# zip_path = '/content/GymEquipment.zip'\n",
        "extract_path = '/content/dataset/Gym Equipment'"
      ],
      "metadata": {
        "id": "4hi37yvcq-VA"
      },
      "execution_count": 4,
      "outputs": []
    }
  ]
}